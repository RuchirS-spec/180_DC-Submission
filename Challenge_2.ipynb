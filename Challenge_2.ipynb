{
  "cells": [
    {
      "cell_type": "code",
      "metadata": {
        "colab": {
          "base_uri": "https://localhost:8080/"
        },
        "id": "9cf16ad1",
        "outputId": "0faa07e7-b052-4530-8f4b-99b44863ab9d"
      },
      "source": [
        "!pip install stanza nltk anytree\n",
        "import nltk\n",
        "nltk.download('punkt_tab')\n",
        "import re\n",
        "import nltk  #imports our natural language toolkit\n",
        "import csv   #helps us work with csv files\n",
        "from difflib import SequenceMatcher #helps compare sequences"
      ],
      "execution_count": null,
      "outputs": [
        {
          "output_type": "stream",
          "name": "stdout",
          "text": [
            "Defaulting to user installation because normal site-packages is not writeable\n",
            "Requirement already satisfied: stanza in c:\\users\\ruchi\\appdata\\roaming\\python\\python312\\site-packages (1.10.1)\n",
            "Requirement already satisfied: nltk in c:\\users\\ruchi\\appdata\\roaming\\python\\python312\\site-packages (3.9.1)\n",
            "Requirement already satisfied: anytree in c:\\users\\ruchi\\appdata\\roaming\\python\\python312\\site-packages (2.13.0)\n",
            "Requirement already satisfied: emoji in c:\\users\\ruchi\\appdata\\roaming\\python\\python312\\site-packages (from stanza) (2.14.1)\n",
            "Requirement already satisfied: numpy in c:\\users\\ruchi\\appdata\\roaming\\python\\python312\\site-packages (from stanza) (2.2.4)\n",
            "Requirement already satisfied: protobuf>=3.15.0 in c:\\users\\ruchi\\appdata\\roaming\\python\\python312\\site-packages (from stanza) (6.32.0)\n",
            "Requirement already satisfied: requests in c:\\users\\ruchi\\appdata\\roaming\\python\\python312\\site-packages (from stanza) (2.32.4)\n",
            "Requirement already satisfied: networkx in c:\\users\\ruchi\\appdata\\roaming\\python\\python312\\site-packages (from stanza) (3.5)\n",
            "Requirement already satisfied: torch>=1.3.0 in c:\\users\\ruchi\\appdata\\roaming\\python\\python312\\site-packages (from stanza) (2.7.1+cu128)\n",
            "Requirement already satisfied: tqdm in c:\\users\\ruchi\\appdata\\roaming\\python\\python312\\site-packages (from stanza) (4.67.1)\n",
            "Requirement already satisfied: click in c:\\users\\ruchi\\appdata\\roaming\\python\\python312\\site-packages (from nltk) (8.1.8)\n",
            "Requirement already satisfied: joblib in c:\\users\\ruchi\\appdata\\roaming\\python\\python312\\site-packages (from nltk) (1.5.1)\n",
            "Requirement already satisfied: regex>=2021.8.3 in c:\\users\\ruchi\\appdata\\roaming\\python\\python312\\site-packages (from nltk) (2025.7.34)\n",
            "Requirement already satisfied: filelock in c:\\users\\ruchi\\appdata\\roaming\\python\\python312\\site-packages (from torch>=1.3.0->stanza) (3.18.0)\n",
            "Requirement already satisfied: typing-extensions>=4.10.0 in c:\\users\\ruchi\\appdata\\roaming\\python\\python312\\site-packages (from torch>=1.3.0->stanza) (4.14.1)\n",
            "Requirement already satisfied: sympy>=1.13.3 in c:\\users\\ruchi\\appdata\\roaming\\python\\python312\\site-packages (from torch>=1.3.0->stanza) (1.14.0)\n",
            "Requirement already satisfied: jinja2 in c:\\users\\ruchi\\appdata\\roaming\\python\\python312\\site-packages (from torch>=1.3.0->stanza) (3.1.5)\n",
            "Requirement already satisfied: fsspec in c:\\users\\ruchi\\appdata\\roaming\\python\\python312\\site-packages (from torch>=1.3.0->stanza) (2025.7.0)\n",
            "Requirement already satisfied: setuptools in c:\\users\\ruchi\\appdata\\roaming\\python\\python312\\site-packages (from torch>=1.3.0->stanza) (80.9.0)\n",
            "Requirement already satisfied: mpmath<1.4,>=1.1.0 in c:\\users\\ruchi\\appdata\\roaming\\python\\python312\\site-packages (from sympy>=1.13.3->torch>=1.3.0->stanza) (1.3.0)\n",
            "Requirement already satisfied: colorama in c:\\users\\ruchi\\appdata\\roaming\\python\\python312\\site-packages (from click->nltk) (0.4.6)\n",
            "Requirement already satisfied: MarkupSafe>=2.0 in c:\\users\\ruchi\\appdata\\roaming\\python\\python312\\site-packages (from jinja2->torch>=1.3.0->stanza) (3.0.2)\n",
            "Requirement already satisfied: charset_normalizer<4,>=2 in c:\\users\\ruchi\\appdata\\roaming\\python\\python312\\site-packages (from requests->stanza) (3.4.3)\n",
            "Requirement already satisfied: idna<4,>=2.5 in c:\\users\\ruchi\\appdata\\roaming\\python\\python312\\site-packages (from requests->stanza) (3.10)\n",
            "Requirement already satisfied: urllib3<3,>=1.21.1 in c:\\users\\ruchi\\appdata\\roaming\\python\\python312\\site-packages (from requests->stanza) (2.5.0)\n",
            "Requirement already satisfied: certifi>=2017.4.17 in c:\\users\\ruchi\\appdata\\roaming\\python\\python312\\site-packages (from requests->stanza) (2025.8.3)\n"
          ]
        },
        {
          "output_type": "stream",
          "name": "stderr",
          "text": [
            "[nltk_data] Downloading package punkt_tab to\n",
            "[nltk_data]     C:\\Users\\ruchi\\AppData\\Roaming\\nltk_data...\n",
            "[nltk_data]   Package punkt_tab is already up-to-date!\n"
          ]
        }
      ]
    },
    {
      "cell_type": "markdown",
      "metadata": {
        "id": "921e324b"
      },
      "source": [
        "**Reasoning**:\n",
        "The previous command failed because the `sklearn` library is not installed. I need to install it before I can import `TfidfVectorizer`.\n",
        "\n"
      ]
    },
    {
      "cell_type": "code",
      "metadata": {
        "colab": {
          "base_uri": "https://localhost:8080/"
        },
        "id": "zGD0cWWRM-7d",
        "outputId": "078abe91-5f7b-42da-ef29-b1568dbf5588"
      },
      "source": [
        "!pip install scikit-learn"
      ],
      "execution_count": 22,
      "outputs": [
        {
          "output_type": "stream",
          "name": "stdout",
          "text": [
            "Defaulting to user installation because normal site-packages is not writeable\n",
            "Collecting scikit-learn\n",
            "  Downloading scikit_learn-1.7.1-cp312-cp312-win_amd64.whl.metadata (11 kB)\n",
            "Requirement already satisfied: numpy>=1.22.0 in c:\\users\\ruchi\\appdata\\roaming\\python\\python312\\site-packages (from scikit-learn) (2.2.4)\n",
            "Requirement already satisfied: scipy>=1.8.0 in c:\\users\\ruchi\\appdata\\roaming\\python\\python312\\site-packages (from scikit-learn) (1.15.2)\n",
            "Requirement already satisfied: joblib>=1.2.0 in c:\\users\\ruchi\\appdata\\roaming\\python\\python312\\site-packages (from scikit-learn) (1.5.1)\n",
            "Collecting threadpoolctl>=3.1.0 (from scikit-learn)\n",
            "  Downloading threadpoolctl-3.6.0-py3-none-any.whl.metadata (13 kB)\n",
            "Downloading scikit_learn-1.7.1-cp312-cp312-win_amd64.whl (8.7 MB)\n",
            "   ---------------------------------------- 0.0/8.7 MB ? eta -:--:--\n",
            "   -------- ------------------------------- 1.8/8.7 MB 12.6 MB/s eta 0:00:01\n",
            "   ---------------------------- ----------- 6.3/8.7 MB 18.3 MB/s eta 0:00:01\n",
            "   ---------------------------------------- 8.7/8.7 MB 18.1 MB/s  0:00:00\n",
            "Downloading threadpoolctl-3.6.0-py3-none-any.whl (18 kB)\n",
            "Installing collected packages: threadpoolctl, scikit-learn\n",
            "\n",
            "   -------------------- ------------------- 1/2 [scikit-learn]\n",
            "   -------------------- ------------------- 1/2 [scikit-learn]\n",
            "   -------------------- ------------------- 1/2 [scikit-learn]\n",
            "   -------------------- ------------------- 1/2 [scikit-learn]\n",
            "   -------------------- ------------------- 1/2 [scikit-learn]\n",
            "   -------------------- ------------------- 1/2 [scikit-learn]\n",
            "   -------------------- ------------------- 1/2 [scikit-learn]\n",
            "   -------------------- ------------------- 1/2 [scikit-learn]\n",
            "   -------------------- ------------------- 1/2 [scikit-learn]\n",
            "   -------------------- ------------------- 1/2 [scikit-learn]\n",
            "   -------------------- ------------------- 1/2 [scikit-learn]\n",
            "   -------------------- ------------------- 1/2 [scikit-learn]\n",
            "   -------------------- ------------------- 1/2 [scikit-learn]\n",
            "   -------------------- ------------------- 1/2 [scikit-learn]\n",
            "   -------------------- ------------------- 1/2 [scikit-learn]\n",
            "   -------------------- ------------------- 1/2 [scikit-learn]\n",
            "   -------------------- ------------------- 1/2 [scikit-learn]\n",
            "   -------------------- ------------------- 1/2 [scikit-learn]\n",
            "   -------------------- ------------------- 1/2 [scikit-learn]\n",
            "   -------------------- ------------------- 1/2 [scikit-learn]\n",
            "   -------------------- ------------------- 1/2 [scikit-learn]\n",
            "   -------------------- ------------------- 1/2 [scikit-learn]\n",
            "   -------------------- ------------------- 1/2 [scikit-learn]\n",
            "   -------------------- ------------------- 1/2 [scikit-learn]\n",
            "   -------------------- ------------------- 1/2 [scikit-learn]\n",
            "   -------------------- ------------------- 1/2 [scikit-learn]\n",
            "   -------------------- ------------------- 1/2 [scikit-learn]\n",
            "   -------------------- ------------------- 1/2 [scikit-learn]\n",
            "   -------------------- ------------------- 1/2 [scikit-learn]\n",
            "   -------------------- ------------------- 1/2 [scikit-learn]\n",
            "   -------------------- ------------------- 1/2 [scikit-learn]\n",
            "   -------------------- ------------------- 1/2 [scikit-learn]\n",
            "   -------------------- ------------------- 1/2 [scikit-learn]\n",
            "   -------------------- ------------------- 1/2 [scikit-learn]\n",
            "   -------------------- ------------------- 1/2 [scikit-learn]\n",
            "   -------------------- ------------------- 1/2 [scikit-learn]\n",
            "   -------------------- ------------------- 1/2 [scikit-learn]\n",
            "   -------------------- ------------------- 1/2 [scikit-learn]\n",
            "   -------------------- ------------------- 1/2 [scikit-learn]\n",
            "   -------------------- ------------------- 1/2 [scikit-learn]\n",
            "   -------------------- ------------------- 1/2 [scikit-learn]\n",
            "   -------------------- ------------------- 1/2 [scikit-learn]\n",
            "   -------------------- ------------------- 1/2 [scikit-learn]\n",
            "   -------------------- ------------------- 1/2 [scikit-learn]\n",
            "   -------------------- ------------------- 1/2 [scikit-learn]\n",
            "   -------------------- ------------------- 1/2 [scikit-learn]\n",
            "   -------------------- ------------------- 1/2 [scikit-learn]\n",
            "   -------------------- ------------------- 1/2 [scikit-learn]\n",
            "   -------------------- ------------------- 1/2 [scikit-learn]\n",
            "   -------------------- ------------------- 1/2 [scikit-learn]\n",
            "   -------------------- ------------------- 1/2 [scikit-learn]\n",
            "   -------------------- ------------------- 1/2 [scikit-learn]\n",
            "   -------------------- ------------------- 1/2 [scikit-learn]\n",
            "   -------------------- ------------------- 1/2 [scikit-learn]\n",
            "   -------------------- ------------------- 1/2 [scikit-learn]\n",
            "   -------------------- ------------------- 1/2 [scikit-learn]\n",
            "   -------------------- ------------------- 1/2 [scikit-learn]\n",
            "   -------------------- ------------------- 1/2 [scikit-learn]\n",
            "   -------------------- ------------------- 1/2 [scikit-learn]\n",
            "   -------------------- ------------------- 1/2 [scikit-learn]\n",
            "   -------------------- ------------------- 1/2 [scikit-learn]\n",
            "   -------------------- ------------------- 1/2 [scikit-learn]\n",
            "   -------------------- ------------------- 1/2 [scikit-learn]\n",
            "   -------------------- ------------------- 1/2 [scikit-learn]\n",
            "   -------------------- ------------------- 1/2 [scikit-learn]\n",
            "   -------------------- ------------------- 1/2 [scikit-learn]\n",
            "   -------------------- ------------------- 1/2 [scikit-learn]\n",
            "   -------------------- ------------------- 1/2 [scikit-learn]\n",
            "   -------------------- ------------------- 1/2 [scikit-learn]\n",
            "   -------------------- ------------------- 1/2 [scikit-learn]\n",
            "   -------------------- ------------------- 1/2 [scikit-learn]\n",
            "   -------------------- ------------------- 1/2 [scikit-learn]\n",
            "   -------------------- ------------------- 1/2 [scikit-learn]\n",
            "   ---------------------------------------- 2/2 [scikit-learn]\n",
            "\n",
            "Successfully installed scikit-learn-1.7.1 threadpoolctl-3.6.0\n"
          ]
        }
      ]
    },
    {
      "cell_type": "markdown",
      "metadata": {
        "id": "d3e9a276"
      },
      "source": [
        "**Reasoning**:\n",
        "Import the stanza library and download the English language model.\n",
        "\n"
      ]
    },
    {
      "cell_type": "code",
      "metadata": {
        "colab": {
          "base_uri": "https://localhost:8080/"
        },
        "id": "9fc34472",
        "outputId": "f06c2710-6cb3-4cb2-c3fa-3594dcd01e7b"
      },
      "source": [
        "import pandas as pd\n",
        "from sklearn.feature_extraction.text import TfidfVectorizer\n",
        "try:\n",
        "    df = pd.read_csv(r'C:\\Users\\ruchi\\Documents\\Dataset.csv')\n",
        "    original_sentences = df['Original'].tolist()\n",
        "except FileNotFoundError:\n",
        "    print(\"Error: Dataset.csv not found. Please make sure the file path is correct.\")\n",
        "    original_sentences = []\n",
        "if original_sentences:\n",
        "    tfidf_vectorizer = TfidfVectorizer()\n",
        "    tfidf_matrix = tfidf_vectorizer.fit_transform(original_sentences)\n",
        "    feature_names = tfidf_vectorizer.get_feature_names_out()\n",
        "\n",
        "    print(\"TF-IDF calculation complete.\")\n",
        "else:\n",
        "    print(\"Could not calculate TF-IDF as no sentences were loaded.\")"
      ],
      "execution_count": 48,
      "outputs": [
        {
          "output_type": "stream",
          "name": "stdout",
          "text": [
            "TF-IDF calculation complete.\n"
          ]
        }
      ]
    },
    {
      "cell_type": "code",
      "metadata": {
        "colab": {
          "base_uri": "https://localhost:8080/"
        },
        "id": "0dd31e06",
        "outputId": "e2f9a35c-c3cc-482c-b90a-541e2e4de453"
      },
      "source": [
        "tfidf_threshold = 0.1  #THIS IS THE TFIDF THRESHOLD\n",
        "potential_jargon = set()\n",
        "\n",
        "if 'tfidf_matrix' in locals() and 'feature_names' in locals():\n",
        "    for i in range(tfidf_matrix.shape[0]):\n",
        "        sentence_tfidf_scores = tfidf_matrix[i].toarray()[0]\n",
        "        for j in range(len(feature_names)):\n",
        "            score = sentence_tfidf_scores[j]\n",
        "            if score > tfidf_threshold:\n",
        "                potential_jargon.add(feature_names[j])\n",
        "\n",
        "    print(f\"Identified {len(potential_jargon)} potential jargon terms.\")\n",
        "    print(\"Potential jargon examples:\", list(potential_jargon)[:20])\n",
        "else:\n",
        "    print(\"TF-IDF matrix or feature names not available. Please run the previous cell.\")"
      ],
      "execution_count": 47,
      "outputs": [
        {
          "output_type": "stream",
          "name": "stdout",
          "text": [
            "Identified 2441 potential jargon terms.\n",
            "Potential jargon examples: ['bigamy', 'epilepsy', 'false', 'third', 'trace', 'relational', 'admission', 'ordered', 'files', 'adjudication', 'redress', 'redirect', 'storage', 'address', 'left', 'correctly', 'commuted', 'algorithm', 'artificial', 'systems']\n"
          ]
        }
      ]
    },
    {
      "cell_type": "code",
      "metadata": {
        "colab": {
          "base_uri": "https://localhost:8080/",
          "height": 523,
          "referenced_widgets": [
            "d01a82e9db9d461dac191df98b354b76",
            "23f6a10e454446d59278f7c1fd63d8a9",
            "c23239f70a0f4f58b61b9ac0139dbea2",
            "f9da2ad9cc6344b588de37ba03580ee0",
            "d6882c35e1b04070b817ee7fa1e31a17",
            "40cba0b0f1db44338b288923fc5370e2",
            "6bfbdfe3094140c7bb54400270e187fa",
            "55ccde814db84c4186d2dc81fff194c3",
            "aeeb5cee244143dfbbaa4cb621252cc7",
            "f89e68a4aa8d446383c06b1bd7cba58c",
            "fe8c90156c0c4a97912adb1f1cac2c9c",
            "53615f66de3f41459845e8fb800520de",
            "0e4bebbf19044ad589f67b4ec3ab349b",
            "b7ba09a7f56049efae143fd096067ab7",
            "ef8c597b8627484baabf09b2ed61fc63",
            "777a4a0edac044deb50746b78f546863",
            "0602a862a55c413bb46e12e4aaf41762",
            "46b99864f98642d99c89a3370ac98ee7",
            "aa50628160ee4bb89eed7c05adf24853",
            "6e930d3ecec040c79b0c772544e3662f",
            "ea5f2181661b4e7fb0515294cdad7bf7",
            "82f81f4df8604541889431fa4d4c1f5a"
          ]
        },
        "id": "40a4bdf7",
        "outputId": "7c1c2346-cb0e-4be8-d1e4-7c7dce6bb9ed"
      },
      "source": [
        "import stanza\n",
        "import nltk\n",
        "from nltk.corpus import wordnet as wn #DOWNLOADIGN THE WORDNET DICTIONARY\n",
        "\n",
        "try:\n",
        "    nltk.data.find('corpora/wordnet')\n",
        "except LookupError:\n",
        "    nltk.download('wordnet')\n",
        "# Download the English language model for Stanza\n",
        "try:\n",
        "    stanza.download('en')\n",
        "except Exception as e:\n",
        "    print(f\"Error downloading Stanza model: {e}\")\n",
        "\n",
        "try:\n",
        "    nlp = stanza.Pipeline(lang='en', processors='tokenize,mwt,pos,lemma,depparse')  #INITIALIZES THE PARSING PIPELINE\n",
        "    print(\"Stanza pipeline initialized.\")\n",
        "except Exception as e:\n",
        "    print(f\"Error initializing Stanza pipeline: {e}\")"
      ],
      "execution_count": 46,
      "outputs": [
        {
          "output_type": "stream",
          "name": "stderr",
          "text": [
            "[nltk_data] Downloading package wordnet to\n",
            "[nltk_data]     C:\\Users\\ruchi\\AppData\\Roaming\\nltk_data...\n",
            "[nltk_data]   Package wordnet is already up-to-date!\n"
          ]
        },
        {
          "output_type": "display_data",
          "data": {
            "text/plain": [
              "Downloading https://raw.githubusercontent.com/stanfordnlp/stanza-resources/main/resources_1.10.0.json:   0%|  …"
            ],
            "application/vnd.jupyter.widget-view+json": {
              "version_major": 2,
              "version_minor": 0,
              "model_id": "d01a82e9db9d461dac191df98b354b76"
            }
          },
          "metadata": {}
        },
        {
          "output_type": "stream",
          "name": "stderr",
          "text": [
            "2025-08-25 18:37:23 INFO: Downloaded file to C:\\Users\\ruchi\\stanza_resources\\resources.json\n",
            "2025-08-25 18:37:23 INFO: Downloading default packages for language: en (English) ...\n",
            "2025-08-25 18:37:24 INFO: File exists: C:\\Users\\ruchi\\stanza_resources\\en\\default.zip\n",
            "2025-08-25 18:37:28 INFO: Finished downloading models and saved to C:\\Users\\ruchi\\stanza_resources\n",
            "2025-08-25 18:37:28 INFO: Checking for updates to resources.json in case models have been updated.  Note: this behavior can be turned off with download_method=None or download_method=DownloadMethod.REUSE_RESOURCES\n"
          ]
        },
        {
          "output_type": "display_data",
          "data": {
            "text/plain": [
              "Downloading https://raw.githubusercontent.com/stanfordnlp/stanza-resources/main/resources_1.10.0.json:   0%|  …"
            ],
            "application/vnd.jupyter.widget-view+json": {
              "version_major": 2,
              "version_minor": 0,
              "model_id": "53615f66de3f41459845e8fb800520de"
            }
          },
          "metadata": {}
        },
        {
          "output_type": "stream",
          "name": "stderr",
          "text": [
            "2025-08-25 18:37:28 INFO: Downloaded file to C:\\Users\\ruchi\\stanza_resources\\resources.json\n",
            "2025-08-25 18:37:29 INFO: Loading these models for language: en (English):\n",
            "=================================\n",
            "| Processor | Package           |\n",
            "---------------------------------\n",
            "| tokenize  | combined          |\n",
            "| mwt       | combined          |\n",
            "| pos       | combined_charlm   |\n",
            "| lemma     | combined_nocharlm |\n",
            "| depparse  | combined_charlm   |\n",
            "=================================\n",
            "\n",
            "2025-08-25 18:37:29 INFO: Using device: cpu\n",
            "2025-08-25 18:37:29 INFO: Loading: tokenize\n",
            "2025-08-25 18:37:29 INFO: Loading: mwt\n",
            "2025-08-25 18:37:29 INFO: Loading: pos\n",
            "2025-08-25 18:37:30 INFO: Loading: lemma\n",
            "2025-08-25 18:37:31 INFO: Loading: depparse\n",
            "2025-08-25 18:37:31 INFO: Done loading processors!\n"
          ]
        },
        {
          "output_type": "stream",
          "name": "stdout",
          "text": [
            "Stanza pipeline initialized.\n"
          ]
        }
      ]
    },
    {
      "cell_type": "code",
      "metadata": {
        "id": "eb1113b2"
      },
      "source": [
        "def simplify_sentence_with_wordnet(sentence, potential_jargon_list, nlp_pipeline):\n",
        "    doc = nlp_pipeline(sentence)\n",
        "    simplified_sentence = []\n",
        "\n",
        "    for sent in doc.sentences:\n",
        "        for word in sent.words:\n",
        "            original_word = word.text\n",
        "            lemma_word = word.lemma\n",
        "            simplified_word = original_word\n",
        "            if original_word.lower() in potential_jargon_list or lemma_word.lower() in potential_jargon_list: #CHECKS IF THE WORD IS IN THE JARGON LIST\n",
        "                synonyms = [] #CREATES A LIST OF SYNONYMS\n",
        "                for syn in wn.synsets(lemma_word):\n",
        "                    for lemma in syn.lemmas():\n",
        "                        synonyms.append(lemma.name().replace('_', ' '))\n",
        "\n",
        "                synonyms.sort(key=len) #THIS LINE PRIORITIZES SHORTER SYNONYMS INSTEAD\n",
        "                if synonyms:\n",
        "                    simplified_word = synonyms[0]\n",
        "\n",
        "\n",
        "            simplified_sentence.append(simplified_word)\n",
        "\n",
        "\n",
        "\n",
        "\n",
        "\n",
        "    return \" \".join(simplified_sentence)\n",
        "\n"
      ],
      "execution_count": 45,
      "outputs": []
    },
    {
      "cell_type": "code",
      "metadata": {
        "colab": {
          "base_uri": "https://localhost:8080/"
        },
        "id": "80d24c01",
        "outputId": "9d49245c-c3c1-49a9-9676-55aad7277138"
      },
      "source": [
        "test_sentence = \"The plaintiff filed a motion to dismiss the case.\"\n",
        "simplified_example = simplify_sentence_with_wordnet(test_sentence, potential_jargon, nlp)\n",
        "print(f\"Original: {test_sentence}\")\n",
        "print(f\"Simplified: {simplified_example}\")\n",
        "\n",
        "test_sentence_2 = \"The court decided to abate the lawsuit.\"\n",
        "simplified_example_2 = simplify_sentence_with_wordnet(test_sentence_2, potential_jargon, nlp)\n",
        "print(f\"Original: {test_sentence_2}\")\n",
        "print(f\"Simplified: {simplified_example_2}\")\n",
        "\n",
        "test_sentence_3 = \"The evidence showed the defendant did abet the crime by providing a getaway car.\"\n",
        "simplified_example_3 = simplify_sentence_with_wordnet(test_sentence_3, potential_jargon, nlp)\n",
        "print(f\"Original: {test_sentence_3}\")\n",
        "print(f\"Simplified: {simplified_example_3}\")"
      ],
      "execution_count": 44,
      "outputs": [
        {
          "output_type": "stream",
          "name": "stdout",
          "text": [
            "Original: The plaintiff filed a motion to dismiss the case.\n",
            "Simplified: The plaintiff file a move to can the case .\n",
            "Original: The court decided to abate the lawsuit.\n",
            "Simplified: The woo decide to slake the suit .\n",
            "Original: The evidence showed the defendant did abet the crime by providing a getaway car.\n",
            "Simplified: The show show the suspect do abet the crime by ply a lam car .\n"
          ]
        }
      ]
    },
    {
      "cell_type": "code",
      "metadata": {
        "colab": {
          "base_uri": "https://localhost:8080/"
        },
        "id": "01722a6a",
        "outputId": "a5e2c519-5a50-487e-e9c8-fd8006896aea"
      },
      "source": [
        "from nltk.translate.bleu_score import corpus_bleu\n",
        "\n",
        "# Assuming 'df' is your DataFrame with 'Original' and 'Simplified' columns\n",
        "# and 'potential_jargon' and 'nlp' are available from previous cells.\n",
        "\n",
        "if 'df' in locals() and 'potential_jargon' in locals() and 'nlp' in locals():\n",
        "    original_sentences = df['Original'].tolist()\n",
        "    reference_sentences = df['Simplified'].tolist()\n",
        "\n",
        "    # Generate simplified sentences using the developed function\n",
        "    candidate_sentences = [simplify_sentence_with_wordnet(sent, potential_jargon, nlp) for sent in original_sentences]\n",
        "\n",
        "    # Prepare the reference sentences for corpus_bleu\n",
        "    # corpus_bleu expects a list of lists of reference sentences for each candidate\n",
        "    # Since we have one reference per original sentence, we wrap each reference in a list\n",
        "    wrapped_references = [[ref] for ref in reference_sentences]\n",
        "\n",
        "    # Calculate the corpus BLEU score\n",
        "    # Note: BLEU score is typically used for machine translation and might not be\n",
        "    # the most appropriate metric for simplification, but we can calculate it.\n",
        "    try:\n",
        "        bleu_score = corpus_bleu(wrapped_references, candidate_sentences)\n",
        "        print(f\"Corpus BLEU score: {bleu_score}\")\n",
        "    except ZeroDivisionError:\n",
        "        print(\"Could not calculate BLEU score. This might happen if there are issues with sentence tokenization or very short sentences.\")\n",
        "\n",
        "else:\n",
        "    print(\"Required variables (df, potential_jargon, nlp) not found. Please run the previous cells.\")"
      ],
      "execution_count": 49,
      "outputs": [
        {
          "output_type": "stream",
          "name": "stdout",
          "text": [
            "Corpus BLEU score: 0.3057807368286832\n"
          ]
        }
      ]
    },
    {
      "cell_type": "code",
      "metadata": {
        "colab": {
          "base_uri": "https://localhost:8080/"
        },
        "id": "0339297c",
        "outputId": "e90bf7fb-9a01-43f1-fd34-5679509f9a14"
      },
      "source": [
        "# Assuming 'df' is your DataFrame with 'Original' column\n",
        "# and 'potential_jargon' and 'nlp' are available from previous cells.\n",
        "\n",
        "if 'df' in locals() and 'potential_jargon' in locals() and 'nlp' in locals():\n",
        "    original_sentences = df['Original'].tolist()\n",
        "\n",
        "    # Generate simplified sentences using the developed function\n",
        "    simplified_sentences_model = [simplify_sentence_with_wordnet(sent, potential_jargon, nlp) for sent in original_sentences]\n",
        "\n",
        "    # Create a new DataFrame with original and model-simplified sentences\n",
        "    submission_df = pd.DataFrame({\n",
        "        'Original': original_sentences,\n",
        "        'Model Simplified': simplified_sentences_model\n",
        "    })\n",
        "\n",
        "    # Save the DataFrame to a new CSV file in a writable directory\n",
        "    submission_df.to_csv('/content/submission.csv', index=False)\n",
        "\n",
        "    print(\"Successfully created '/content/submission.csv' with original and model-simplified sentences.\")\n",
        "else:\n",
        "    print(\"Required variables (df, potential_jargon, nlp) not found. Please run the previous cells.\")"
      ],
      "execution_count": 56,
      "outputs": [
        {
          "output_type": "stream",
          "name": "stdout",
          "text": [
            "Successfully created '/content/submission.csv' with original and model-simplified sentences.\n"
          ]
        }
      ]
    }
  ],
  "metadata": {
    "colab": {
      "provenance": []
    },
    "kernelspec": {
      "display_name": "Python 3",
      "name": "python3"
    },
    "widgets": {
      "application/vnd.jupyter.widget-state+json": {
        "d01a82e9db9d461dac191df98b354b76": {
          "model_module": "@jupyter-widgets/controls",
          "model_name": "HBoxModel",
          "model_module_version": "2.0.0",
          "state": {
            "_dom_classes": [],
            "_model_module": "@jupyter-widgets/controls",
            "_model_module_version": "2.0.0",
            "_model_name": "HBoxModel",
            "_view_count": null,
            "_view_module": "@jupyter-widgets/controls",
            "_view_module_version": "2.0.0",
            "_view_name": "HBoxView",
            "box_style": "",
            "children": [
              "IPY_MODEL_23f6a10e454446d59278f7c1fd63d8a9",
              "IPY_MODEL_c23239f70a0f4f58b61b9ac0139dbea2",
              "IPY_MODEL_f9da2ad9cc6344b588de37ba03580ee0"
            ],
            "layout": "IPY_MODEL_d6882c35e1b04070b817ee7fa1e31a17",
            "tabbable": null,
            "tooltip": null
          }
        },
        "23f6a10e454446d59278f7c1fd63d8a9": {
          "model_module": "@jupyter-widgets/controls",
          "model_name": "HTMLModel",
          "model_module_version": "2.0.0",
          "state": {
            "_dom_classes": [],
            "_model_module": "@jupyter-widgets/controls",
            "_model_module_version": "2.0.0",
            "_model_name": "HTMLModel",
            "_view_count": null,
            "_view_module": "@jupyter-widgets/controls",
            "_view_module_version": "2.0.0",
            "_view_name": "HTMLView",
            "description": "",
            "description_allow_html": false,
            "layout": "IPY_MODEL_40cba0b0f1db44338b288923fc5370e2",
            "placeholder": "​",
            "style": "IPY_MODEL_6bfbdfe3094140c7bb54400270e187fa",
            "tabbable": null,
            "tooltip": null,
            "value": "Downloading https://raw.githubusercontent.com/stanfordnlp/stanza-resources/main/resources_1.10.0.json: "
          }
        },
        "c23239f70a0f4f58b61b9ac0139dbea2": {
          "model_module": "@jupyter-widgets/controls",
          "model_name": "FloatProgressModel",
          "model_module_version": "2.0.0",
          "state": {
            "_dom_classes": [],
            "_model_module": "@jupyter-widgets/controls",
            "_model_module_version": "2.0.0",
            "_model_name": "FloatProgressModel",
            "_view_count": null,
            "_view_module": "@jupyter-widgets/controls",
            "_view_module_version": "2.0.0",
            "_view_name": "ProgressView",
            "bar_style": "success",
            "description": "",
            "description_allow_html": false,
            "layout": "IPY_MODEL_55ccde814db84c4186d2dc81fff194c3",
            "max": 53585,
            "min": 0,
            "orientation": "horizontal",
            "style": "IPY_MODEL_aeeb5cee244143dfbbaa4cb621252cc7",
            "tabbable": null,
            "tooltip": null,
            "value": 53585
          }
        },
        "f9da2ad9cc6344b588de37ba03580ee0": {
          "model_module": "@jupyter-widgets/controls",
          "model_name": "HTMLModel",
          "model_module_version": "2.0.0",
          "state": {
            "_dom_classes": [],
            "_model_module": "@jupyter-widgets/controls",
            "_model_module_version": "2.0.0",
            "_model_name": "HTMLModel",
            "_view_count": null,
            "_view_module": "@jupyter-widgets/controls",
            "_view_module_version": "2.0.0",
            "_view_name": "HTMLView",
            "description": "",
            "description_allow_html": false,
            "layout": "IPY_MODEL_f89e68a4aa8d446383c06b1bd7cba58c",
            "placeholder": "​",
            "style": "IPY_MODEL_fe8c90156c0c4a97912adb1f1cac2c9c",
            "tabbable": null,
            "tooltip": null,
            "value": " 434k/? [00:00&lt;00:00, 12.4MB/s]"
          }
        },
        "d6882c35e1b04070b817ee7fa1e31a17": {
          "model_module": "@jupyter-widgets/base",
          "model_name": "LayoutModel",
          "model_module_version": "2.0.0",
          "state": {
            "_model_module": "@jupyter-widgets/base",
            "_model_module_version": "2.0.0",
            "_model_name": "LayoutModel",
            "_view_count": null,
            "_view_module": "@jupyter-widgets/base",
            "_view_module_version": "2.0.0",
            "_view_name": "LayoutView",
            "align_content": null,
            "align_items": null,
            "align_self": null,
            "border_bottom": null,
            "border_left": null,
            "border_right": null,
            "border_top": null,
            "bottom": null,
            "display": null,
            "flex": null,
            "flex_flow": null,
            "grid_area": null,
            "grid_auto_columns": null,
            "grid_auto_flow": null,
            "grid_auto_rows": null,
            "grid_column": null,
            "grid_gap": null,
            "grid_row": null,
            "grid_template_areas": null,
            "grid_template_columns": null,
            "grid_template_rows": null,
            "height": null,
            "justify_content": null,
            "justify_items": null,
            "left": null,
            "margin": null,
            "max_height": null,
            "max_width": null,
            "min_height": null,
            "min_width": null,
            "object_fit": null,
            "object_position": null,
            "order": null,
            "overflow": null,
            "padding": null,
            "right": null,
            "top": null,
            "visibility": null,
            "width": null
          }
        },
        "40cba0b0f1db44338b288923fc5370e2": {
          "model_module": "@jupyter-widgets/base",
          "model_name": "LayoutModel",
          "model_module_version": "2.0.0",
          "state": {
            "_model_module": "@jupyter-widgets/base",
            "_model_module_version": "2.0.0",
            "_model_name": "LayoutModel",
            "_view_count": null,
            "_view_module": "@jupyter-widgets/base",
            "_view_module_version": "2.0.0",
            "_view_name": "LayoutView",
            "align_content": null,
            "align_items": null,
            "align_self": null,
            "border_bottom": null,
            "border_left": null,
            "border_right": null,
            "border_top": null,
            "bottom": null,
            "display": null,
            "flex": null,
            "flex_flow": null,
            "grid_area": null,
            "grid_auto_columns": null,
            "grid_auto_flow": null,
            "grid_auto_rows": null,
            "grid_column": null,
            "grid_gap": null,
            "grid_row": null,
            "grid_template_areas": null,
            "grid_template_columns": null,
            "grid_template_rows": null,
            "height": null,
            "justify_content": null,
            "justify_items": null,
            "left": null,
            "margin": null,
            "max_height": null,
            "max_width": null,
            "min_height": null,
            "min_width": null,
            "object_fit": null,
            "object_position": null,
            "order": null,
            "overflow": null,
            "padding": null,
            "right": null,
            "top": null,
            "visibility": null,
            "width": null
          }
        },
        "6bfbdfe3094140c7bb54400270e187fa": {
          "model_module": "@jupyter-widgets/controls",
          "model_name": "HTMLStyleModel",
          "model_module_version": "2.0.0",
          "state": {
            "_model_module": "@jupyter-widgets/controls",
            "_model_module_version": "2.0.0",
            "_model_name": "HTMLStyleModel",
            "_view_count": null,
            "_view_module": "@jupyter-widgets/base",
            "_view_module_version": "2.0.0",
            "_view_name": "StyleView",
            "background": null,
            "description_width": "",
            "font_size": null,
            "text_color": null
          }
        },
        "55ccde814db84c4186d2dc81fff194c3": {
          "model_module": "@jupyter-widgets/base",
          "model_name": "LayoutModel",
          "model_module_version": "2.0.0",
          "state": {
            "_model_module": "@jupyter-widgets/base",
            "_model_module_version": "2.0.0",
            "_model_name": "LayoutModel",
            "_view_count": null,
            "_view_module": "@jupyter-widgets/base",
            "_view_module_version": "2.0.0",
            "_view_name": "LayoutView",
            "align_content": null,
            "align_items": null,
            "align_self": null,
            "border_bottom": null,
            "border_left": null,
            "border_right": null,
            "border_top": null,
            "bottom": null,
            "display": null,
            "flex": null,
            "flex_flow": null,
            "grid_area": null,
            "grid_auto_columns": null,
            "grid_auto_flow": null,
            "grid_auto_rows": null,
            "grid_column": null,
            "grid_gap": null,
            "grid_row": null,
            "grid_template_areas": null,
            "grid_template_columns": null,
            "grid_template_rows": null,
            "height": null,
            "justify_content": null,
            "justify_items": null,
            "left": null,
            "margin": null,
            "max_height": null,
            "max_width": null,
            "min_height": null,
            "min_width": null,
            "object_fit": null,
            "object_position": null,
            "order": null,
            "overflow": null,
            "padding": null,
            "right": null,
            "top": null,
            "visibility": null,
            "width": null
          }
        },
        "aeeb5cee244143dfbbaa4cb621252cc7": {
          "model_module": "@jupyter-widgets/controls",
          "model_name": "ProgressStyleModel",
          "model_module_version": "2.0.0",
          "state": {
            "_model_module": "@jupyter-widgets/controls",
            "_model_module_version": "2.0.0",
            "_model_name": "ProgressStyleModel",
            "_view_count": null,
            "_view_module": "@jupyter-widgets/base",
            "_view_module_version": "2.0.0",
            "_view_name": "StyleView",
            "bar_color": null,
            "description_width": ""
          }
        },
        "f89e68a4aa8d446383c06b1bd7cba58c": {
          "model_module": "@jupyter-widgets/base",
          "model_name": "LayoutModel",
          "model_module_version": "2.0.0",
          "state": {
            "_model_module": "@jupyter-widgets/base",
            "_model_module_version": "2.0.0",
            "_model_name": "LayoutModel",
            "_view_count": null,
            "_view_module": "@jupyter-widgets/base",
            "_view_module_version": "2.0.0",
            "_view_name": "LayoutView",
            "align_content": null,
            "align_items": null,
            "align_self": null,
            "border_bottom": null,
            "border_left": null,
            "border_right": null,
            "border_top": null,
            "bottom": null,
            "display": null,
            "flex": null,
            "flex_flow": null,
            "grid_area": null,
            "grid_auto_columns": null,
            "grid_auto_flow": null,
            "grid_auto_rows": null,
            "grid_column": null,
            "grid_gap": null,
            "grid_row": null,
            "grid_template_areas": null,
            "grid_template_columns": null,
            "grid_template_rows": null,
            "height": null,
            "justify_content": null,
            "justify_items": null,
            "left": null,
            "margin": null,
            "max_height": null,
            "max_width": null,
            "min_height": null,
            "min_width": null,
            "object_fit": null,
            "object_position": null,
            "order": null,
            "overflow": null,
            "padding": null,
            "right": null,
            "top": null,
            "visibility": null,
            "width": null
          }
        },
        "fe8c90156c0c4a97912adb1f1cac2c9c": {
          "model_module": "@jupyter-widgets/controls",
          "model_name": "HTMLStyleModel",
          "model_module_version": "2.0.0",
          "state": {
            "_model_module": "@jupyter-widgets/controls",
            "_model_module_version": "2.0.0",
            "_model_name": "HTMLStyleModel",
            "_view_count": null,
            "_view_module": "@jupyter-widgets/base",
            "_view_module_version": "2.0.0",
            "_view_name": "StyleView",
            "background": null,
            "description_width": "",
            "font_size": null,
            "text_color": null
          }
        },
        "53615f66de3f41459845e8fb800520de": {
          "model_module": "@jupyter-widgets/controls",
          "model_name": "HBoxModel",
          "model_module_version": "2.0.0",
          "state": {
            "_dom_classes": [],
            "_model_module": "@jupyter-widgets/controls",
            "_model_module_version": "2.0.0",
            "_model_name": "HBoxModel",
            "_view_count": null,
            "_view_module": "@jupyter-widgets/controls",
            "_view_module_version": "2.0.0",
            "_view_name": "HBoxView",
            "box_style": "",
            "children": [
              "IPY_MODEL_0e4bebbf19044ad589f67b4ec3ab349b",
              "IPY_MODEL_b7ba09a7f56049efae143fd096067ab7",
              "IPY_MODEL_ef8c597b8627484baabf09b2ed61fc63"
            ],
            "layout": "IPY_MODEL_777a4a0edac044deb50746b78f546863",
            "tabbable": null,
            "tooltip": null
          }
        },
        "0e4bebbf19044ad589f67b4ec3ab349b": {
          "model_module": "@jupyter-widgets/controls",
          "model_name": "HTMLModel",
          "model_module_version": "2.0.0",
          "state": {
            "_dom_classes": [],
            "_model_module": "@jupyter-widgets/controls",
            "_model_module_version": "2.0.0",
            "_model_name": "HTMLModel",
            "_view_count": null,
            "_view_module": "@jupyter-widgets/controls",
            "_view_module_version": "2.0.0",
            "_view_name": "HTMLView",
            "description": "",
            "description_allow_html": false,
            "layout": "IPY_MODEL_0602a862a55c413bb46e12e4aaf41762",
            "placeholder": "​",
            "style": "IPY_MODEL_46b99864f98642d99c89a3370ac98ee7",
            "tabbable": null,
            "tooltip": null,
            "value": "Downloading https://raw.githubusercontent.com/stanfordnlp/stanza-resources/main/resources_1.10.0.json: "
          }
        },
        "b7ba09a7f56049efae143fd096067ab7": {
          "model_module": "@jupyter-widgets/controls",
          "model_name": "FloatProgressModel",
          "model_module_version": "2.0.0",
          "state": {
            "_dom_classes": [],
            "_model_module": "@jupyter-widgets/controls",
            "_model_module_version": "2.0.0",
            "_model_name": "FloatProgressModel",
            "_view_count": null,
            "_view_module": "@jupyter-widgets/controls",
            "_view_module_version": "2.0.0",
            "_view_name": "ProgressView",
            "bar_style": "success",
            "description": "",
            "description_allow_html": false,
            "layout": "IPY_MODEL_aa50628160ee4bb89eed7c05adf24853",
            "max": 53585,
            "min": 0,
            "orientation": "horizontal",
            "style": "IPY_MODEL_6e930d3ecec040c79b0c772544e3662f",
            "tabbable": null,
            "tooltip": null,
            "value": 53585
          }
        },
        "ef8c597b8627484baabf09b2ed61fc63": {
          "model_module": "@jupyter-widgets/controls",
          "model_name": "HTMLModel",
          "model_module_version": "2.0.0",
          "state": {
            "_dom_classes": [],
            "_model_module": "@jupyter-widgets/controls",
            "_model_module_version": "2.0.0",
            "_model_name": "HTMLModel",
            "_view_count": null,
            "_view_module": "@jupyter-widgets/controls",
            "_view_module_version": "2.0.0",
            "_view_name": "HTMLView",
            "description": "",
            "description_allow_html": false,
            "layout": "IPY_MODEL_ea5f2181661b4e7fb0515294cdad7bf7",
            "placeholder": "​",
            "style": "IPY_MODEL_82f81f4df8604541889431fa4d4c1f5a",
            "tabbable": null,
            "tooltip": null,
            "value": " 434k/? [00:00&lt;00:00, 14.9MB/s]"
          }
        },
        "777a4a0edac044deb50746b78f546863": {
          "model_module": "@jupyter-widgets/base",
          "model_name": "LayoutModel",
          "model_module_version": "2.0.0",
          "state": {
            "_model_module": "@jupyter-widgets/base",
            "_model_module_version": "2.0.0",
            "_model_name": "LayoutModel",
            "_view_count": null,
            "_view_module": "@jupyter-widgets/base",
            "_view_module_version": "2.0.0",
            "_view_name": "LayoutView",
            "align_content": null,
            "align_items": null,
            "align_self": null,
            "border_bottom": null,
            "border_left": null,
            "border_right": null,
            "border_top": null,
            "bottom": null,
            "display": null,
            "flex": null,
            "flex_flow": null,
            "grid_area": null,
            "grid_auto_columns": null,
            "grid_auto_flow": null,
            "grid_auto_rows": null,
            "grid_column": null,
            "grid_gap": null,
            "grid_row": null,
            "grid_template_areas": null,
            "grid_template_columns": null,
            "grid_template_rows": null,
            "height": null,
            "justify_content": null,
            "justify_items": null,
            "left": null,
            "margin": null,
            "max_height": null,
            "max_width": null,
            "min_height": null,
            "min_width": null,
            "object_fit": null,
            "object_position": null,
            "order": null,
            "overflow": null,
            "padding": null,
            "right": null,
            "top": null,
            "visibility": null,
            "width": null
          }
        },
        "0602a862a55c413bb46e12e4aaf41762": {
          "model_module": "@jupyter-widgets/base",
          "model_name": "LayoutModel",
          "model_module_version": "2.0.0",
          "state": {
            "_model_module": "@jupyter-widgets/base",
            "_model_module_version": "2.0.0",
            "_model_name": "LayoutModel",
            "_view_count": null,
            "_view_module": "@jupyter-widgets/base",
            "_view_module_version": "2.0.0",
            "_view_name": "LayoutView",
            "align_content": null,
            "align_items": null,
            "align_self": null,
            "border_bottom": null,
            "border_left": null,
            "border_right": null,
            "border_top": null,
            "bottom": null,
            "display": null,
            "flex": null,
            "flex_flow": null,
            "grid_area": null,
            "grid_auto_columns": null,
            "grid_auto_flow": null,
            "grid_auto_rows": null,
            "grid_column": null,
            "grid_gap": null,
            "grid_row": null,
            "grid_template_areas": null,
            "grid_template_columns": null,
            "grid_template_rows": null,
            "height": null,
            "justify_content": null,
            "justify_items": null,
            "left": null,
            "margin": null,
            "max_height": null,
            "max_width": null,
            "min_height": null,
            "min_width": null,
            "object_fit": null,
            "object_position": null,
            "order": null,
            "overflow": null,
            "padding": null,
            "right": null,
            "top": null,
            "visibility": null,
            "width": null
          }
        },
        "46b99864f98642d99c89a3370ac98ee7": {
          "model_module": "@jupyter-widgets/controls",
          "model_name": "HTMLStyleModel",
          "model_module_version": "2.0.0",
          "state": {
            "_model_module": "@jupyter-widgets/controls",
            "_model_module_version": "2.0.0",
            "_model_name": "HTMLStyleModel",
            "_view_count": null,
            "_view_module": "@jupyter-widgets/base",
            "_view_module_version": "2.0.0",
            "_view_name": "StyleView",
            "background": null,
            "description_width": "",
            "font_size": null,
            "text_color": null
          }
        },
        "aa50628160ee4bb89eed7c05adf24853": {
          "model_module": "@jupyter-widgets/base",
          "model_name": "LayoutModel",
          "model_module_version": "2.0.0",
          "state": {
            "_model_module": "@jupyter-widgets/base",
            "_model_module_version": "2.0.0",
            "_model_name": "LayoutModel",
            "_view_count": null,
            "_view_module": "@jupyter-widgets/base",
            "_view_module_version": "2.0.0",
            "_view_name": "LayoutView",
            "align_content": null,
            "align_items": null,
            "align_self": null,
            "border_bottom": null,
            "border_left": null,
            "border_right": null,
            "border_top": null,
            "bottom": null,
            "display": null,
            "flex": null,
            "flex_flow": null,
            "grid_area": null,
            "grid_auto_columns": null,
            "grid_auto_flow": null,
            "grid_auto_rows": null,
            "grid_column": null,
            "grid_gap": null,
            "grid_row": null,
            "grid_template_areas": null,
            "grid_template_columns": null,
            "grid_template_rows": null,
            "height": null,
            "justify_content": null,
            "justify_items": null,
            "left": null,
            "margin": null,
            "max_height": null,
            "max_width": null,
            "min_height": null,
            "min_width": null,
            "object_fit": null,
            "object_position": null,
            "order": null,
            "overflow": null,
            "padding": null,
            "right": null,
            "top": null,
            "visibility": null,
            "width": null
          }
        },
        "6e930d3ecec040c79b0c772544e3662f": {
          "model_module": "@jupyter-widgets/controls",
          "model_name": "ProgressStyleModel",
          "model_module_version": "2.0.0",
          "state": {
            "_model_module": "@jupyter-widgets/controls",
            "_model_module_version": "2.0.0",
            "_model_name": "ProgressStyleModel",
            "_view_count": null,
            "_view_module": "@jupyter-widgets/base",
            "_view_module_version": "2.0.0",
            "_view_name": "StyleView",
            "bar_color": null,
            "description_width": ""
          }
        },
        "ea5f2181661b4e7fb0515294cdad7bf7": {
          "model_module": "@jupyter-widgets/base",
          "model_name": "LayoutModel",
          "model_module_version": "2.0.0",
          "state": {
            "_model_module": "@jupyter-widgets/base",
            "_model_module_version": "2.0.0",
            "_model_name": "LayoutModel",
            "_view_count": null,
            "_view_module": "@jupyter-widgets/base",
            "_view_module_version": "2.0.0",
            "_view_name": "LayoutView",
            "align_content": null,
            "align_items": null,
            "align_self": null,
            "border_bottom": null,
            "border_left": null,
            "border_right": null,
            "border_top": null,
            "bottom": null,
            "display": null,
            "flex": null,
            "flex_flow": null,
            "grid_area": null,
            "grid_auto_columns": null,
            "grid_auto_flow": null,
            "grid_auto_rows": null,
            "grid_column": null,
            "grid_gap": null,
            "grid_row": null,
            "grid_template_areas": null,
            "grid_template_columns": null,
            "grid_template_rows": null,
            "height": null,
            "justify_content": null,
            "justify_items": null,
            "left": null,
            "margin": null,
            "max_height": null,
            "max_width": null,
            "min_height": null,
            "min_width": null,
            "object_fit": null,
            "object_position": null,
            "order": null,
            "overflow": null,
            "padding": null,
            "right": null,
            "top": null,
            "visibility": null,
            "width": null
          }
        },
        "82f81f4df8604541889431fa4d4c1f5a": {
          "model_module": "@jupyter-widgets/controls",
          "model_name": "HTMLStyleModel",
          "model_module_version": "2.0.0",
          "state": {
            "_model_module": "@jupyter-widgets/controls",
            "_model_module_version": "2.0.0",
            "_model_name": "HTMLStyleModel",
            "_view_count": null,
            "_view_module": "@jupyter-widgets/base",
            "_view_module_version": "2.0.0",
            "_view_name": "StyleView",
            "background": null,
            "description_width": "",
            "font_size": null,
            "text_color": null
          }
        }
      }
    }
  },
  "nbformat": 4,
  "nbformat_minor": 0
}